{
 "cells": [
  {
   "cell_type": "code",
   "execution_count": 1,
   "metadata": {},
   "outputs": [],
   "source": [
    "import pandas as pd\n",
    "import numpy as np\n",
    "import matplotlib.pyplot as plt"
   ]
  },
  {
   "cell_type": "markdown",
   "metadata": {},
   "source": [
    "# Part 1"
   ]
  },
  {
   "cell_type": "markdown",
   "metadata": {},
   "source": [
    "## a) txt file"
   ]
  },
  {
   "cell_type": "markdown",
   "metadata": {},
   "source": [
    "* 5 First lines of the book: <br >\n",
    "Facts and fancies for the curious from the harvest-fields of literature"
   ]
  },
  {
   "cell_type": "code",
   "execution_count": 2,
   "metadata": {},
   "outputs": [
    {
     "name": "stdout",
     "output_type": "stream",
     "text": [
      "The Project Gutenberg eBook of Facts and fancies for the curious from the\n",
      "\n",
      "harvest-fields of literature, by Charles C. Bombaugh\n",
      "\n",
      "\n",
      "\n",
      "This eBook is for the use of anyone anywhere in the United States and\n",
      "\n",
      "most other parts of the world at no cost and with almost no restrictions\n",
      "\n"
     ]
    }
   ],
   "source": [
    "filename = 'pg66541.txt'\n",
    "with open(filename , mode='r') as file:\n",
    "    lines = file.readlines()\n",
    "    for line in lines[:5]:\n",
    "        print(line)"
   ]
  },
  {
   "cell_type": "markdown",
   "metadata": {},
   "source": [
    "* Words"
   ]
  },
  {
   "cell_type": "code",
   "execution_count": 3,
   "metadata": {},
   "outputs": [
    {
     "name": "stdout",
     "output_type": "stream",
     "text": [
      "50 first words of the book ['\\ufeffThe', 'Project', 'Gutenberg', 'eBook', 'of', 'Facts', 'and', 'fancies', 'for', 'the', 'curious', 'from', 'the', 'harvest-fields', 'of', 'literature,', 'by', 'Charles', 'C.', 'Bombaugh', 'This', 'eBook', 'is', 'for', 'the', 'use', 'of', 'anyone', 'anywhere', 'in', 'the', 'United', 'States', 'and', 'most', 'other', 'parts', 'of', 'the', 'world', 'at', 'no', 'cost', 'and', 'with', 'almost', 'no', 'restrictions', 'whatsoever.', 'You']\n"
     ]
    }
   ],
   "source": [
    "with open(filename , mode='r') as file:\n",
    "    lines = file.readlines()\n",
    "    words = [] \n",
    "    for line in lines:\n",
    "        words.extend(line.split())\n",
    "\n",
    "print('50 first words of the book', words[:50])        "
   ]
  },
  {
   "cell_type": "markdown",
   "metadata": {},
   "source": [
    "## b) csv file"
   ]
  },
  {
   "cell_type": "markdown",
   "metadata": {},
   "source": []
  },
  {
   "cell_type": "code",
   "execution_count": 4,
   "metadata": {},
   "outputs": [
    {
     "data": {
      "text/html": [
       "<div>\n",
       "<style scoped>\n",
       "    .dataframe tbody tr th:only-of-type {\n",
       "        vertical-align: middle;\n",
       "    }\n",
       "\n",
       "    .dataframe tbody tr th {\n",
       "        vertical-align: top;\n",
       "    }\n",
       "\n",
       "    .dataframe thead th {\n",
       "        text-align: right;\n",
       "    }\n",
       "</style>\n",
       "<table border=\"1\" class=\"dataframe\">\n",
       "  <thead>\n",
       "    <tr style=\"text-align: right;\">\n",
       "      <th></th>\n",
       "      <th>country</th>\n",
       "      <th>iso_code</th>\n",
       "      <th>date</th>\n",
       "      <th>total_vaccinations</th>\n",
       "      <th>people_vaccinated</th>\n",
       "      <th>people_fully_vaccinated</th>\n",
       "      <th>daily_vaccinations_raw</th>\n",
       "      <th>daily_vaccinations</th>\n",
       "      <th>total_vaccinations_per_hundred</th>\n",
       "      <th>people_vaccinated_per_hundred</th>\n",
       "      <th>people_fully_vaccinated_per_hundred</th>\n",
       "      <th>daily_vaccinations_per_million</th>\n",
       "      <th>vaccines</th>\n",
       "      <th>source_name</th>\n",
       "      <th>source_website</th>\n",
       "    </tr>\n",
       "  </thead>\n",
       "  <tbody>\n",
       "    <tr>\n",
       "      <th>0</th>\n",
       "      <td>Afghanistan</td>\n",
       "      <td>AFG</td>\n",
       "      <td>2021-02-22</td>\n",
       "      <td>0.0</td>\n",
       "      <td>0.0</td>\n",
       "      <td>NaN</td>\n",
       "      <td>NaN</td>\n",
       "      <td>NaN</td>\n",
       "      <td>0.00</td>\n",
       "      <td>0.00</td>\n",
       "      <td>NaN</td>\n",
       "      <td>NaN</td>\n",
       "      <td>Johnson&amp;Johnson, Oxford/AstraZeneca, Pfizer/Bi...</td>\n",
       "      <td>World Health Organization</td>\n",
       "      <td>https://app.powerbi.com/view?r=eyJrIjoiYTkyM2V...</td>\n",
       "    </tr>\n",
       "    <tr>\n",
       "      <th>1</th>\n",
       "      <td>Afghanistan</td>\n",
       "      <td>AFG</td>\n",
       "      <td>2021-02-23</td>\n",
       "      <td>NaN</td>\n",
       "      <td>NaN</td>\n",
       "      <td>NaN</td>\n",
       "      <td>NaN</td>\n",
       "      <td>1367.0</td>\n",
       "      <td>NaN</td>\n",
       "      <td>NaN</td>\n",
       "      <td>NaN</td>\n",
       "      <td>34.0</td>\n",
       "      <td>Johnson&amp;Johnson, Oxford/AstraZeneca, Pfizer/Bi...</td>\n",
       "      <td>World Health Organization</td>\n",
       "      <td>https://app.powerbi.com/view?r=eyJrIjoiYTkyM2V...</td>\n",
       "    </tr>\n",
       "    <tr>\n",
       "      <th>2</th>\n",
       "      <td>Afghanistan</td>\n",
       "      <td>AFG</td>\n",
       "      <td>2021-02-24</td>\n",
       "      <td>NaN</td>\n",
       "      <td>NaN</td>\n",
       "      <td>NaN</td>\n",
       "      <td>NaN</td>\n",
       "      <td>1367.0</td>\n",
       "      <td>NaN</td>\n",
       "      <td>NaN</td>\n",
       "      <td>NaN</td>\n",
       "      <td>34.0</td>\n",
       "      <td>Johnson&amp;Johnson, Oxford/AstraZeneca, Pfizer/Bi...</td>\n",
       "      <td>World Health Organization</td>\n",
       "      <td>https://app.powerbi.com/view?r=eyJrIjoiYTkyM2V...</td>\n",
       "    </tr>\n",
       "    <tr>\n",
       "      <th>3</th>\n",
       "      <td>Afghanistan</td>\n",
       "      <td>AFG</td>\n",
       "      <td>2021-02-25</td>\n",
       "      <td>NaN</td>\n",
       "      <td>NaN</td>\n",
       "      <td>NaN</td>\n",
       "      <td>NaN</td>\n",
       "      <td>1367.0</td>\n",
       "      <td>NaN</td>\n",
       "      <td>NaN</td>\n",
       "      <td>NaN</td>\n",
       "      <td>34.0</td>\n",
       "      <td>Johnson&amp;Johnson, Oxford/AstraZeneca, Pfizer/Bi...</td>\n",
       "      <td>World Health Organization</td>\n",
       "      <td>https://app.powerbi.com/view?r=eyJrIjoiYTkyM2V...</td>\n",
       "    </tr>\n",
       "    <tr>\n",
       "      <th>4</th>\n",
       "      <td>Afghanistan</td>\n",
       "      <td>AFG</td>\n",
       "      <td>2021-02-26</td>\n",
       "      <td>NaN</td>\n",
       "      <td>NaN</td>\n",
       "      <td>NaN</td>\n",
       "      <td>NaN</td>\n",
       "      <td>1367.0</td>\n",
       "      <td>NaN</td>\n",
       "      <td>NaN</td>\n",
       "      <td>NaN</td>\n",
       "      <td>34.0</td>\n",
       "      <td>Johnson&amp;Johnson, Oxford/AstraZeneca, Pfizer/Bi...</td>\n",
       "      <td>World Health Organization</td>\n",
       "      <td>https://app.powerbi.com/view?r=eyJrIjoiYTkyM2V...</td>\n",
       "    </tr>\n",
       "    <tr>\n",
       "      <th>...</th>\n",
       "      <td>...</td>\n",
       "      <td>...</td>\n",
       "      <td>...</td>\n",
       "      <td>...</td>\n",
       "      <td>...</td>\n",
       "      <td>...</td>\n",
       "      <td>...</td>\n",
       "      <td>...</td>\n",
       "      <td>...</td>\n",
       "      <td>...</td>\n",
       "      <td>...</td>\n",
       "      <td>...</td>\n",
       "      <td>...</td>\n",
       "      <td>...</td>\n",
       "      <td>...</td>\n",
       "    </tr>\n",
       "    <tr>\n",
       "      <th>45979</th>\n",
       "      <td>Zimbabwe</td>\n",
       "      <td>ZWE</td>\n",
       "      <td>2021-09-16</td>\n",
       "      <td>4964302.0</td>\n",
       "      <td>2930550.0</td>\n",
       "      <td>2033752.0</td>\n",
       "      <td>108486.0</td>\n",
       "      <td>51755.0</td>\n",
       "      <td>32.89</td>\n",
       "      <td>19.42</td>\n",
       "      <td>13.48</td>\n",
       "      <td>3429.0</td>\n",
       "      <td>Oxford/AstraZeneca, Sinopharm/Beijing, Sinovac...</td>\n",
       "      <td>Ministry of Health</td>\n",
       "      <td>https://www.arcgis.com/home/webmap/viewer.html...</td>\n",
       "    </tr>\n",
       "    <tr>\n",
       "      <th>45980</th>\n",
       "      <td>Zimbabwe</td>\n",
       "      <td>ZWE</td>\n",
       "      <td>2021-09-17</td>\n",
       "      <td>NaN</td>\n",
       "      <td>NaN</td>\n",
       "      <td>NaN</td>\n",
       "      <td>NaN</td>\n",
       "      <td>45993.0</td>\n",
       "      <td>NaN</td>\n",
       "      <td>NaN</td>\n",
       "      <td>NaN</td>\n",
       "      <td>3047.0</td>\n",
       "      <td>Oxford/AstraZeneca, Sinopharm/Beijing, Sinovac...</td>\n",
       "      <td>Ministry of Health</td>\n",
       "      <td>https://www.arcgis.com/home/webmap/viewer.html...</td>\n",
       "    </tr>\n",
       "    <tr>\n",
       "      <th>45981</th>\n",
       "      <td>Zimbabwe</td>\n",
       "      <td>ZWE</td>\n",
       "      <td>2021-09-18</td>\n",
       "      <td>4992501.0</td>\n",
       "      <td>2940750.0</td>\n",
       "      <td>2051751.0</td>\n",
       "      <td>NaN</td>\n",
       "      <td>40514.0</td>\n",
       "      <td>33.08</td>\n",
       "      <td>19.49</td>\n",
       "      <td>13.59</td>\n",
       "      <td>2684.0</td>\n",
       "      <td>Oxford/AstraZeneca, Sinopharm/Beijing, Sinovac...</td>\n",
       "      <td>Ministry of Health</td>\n",
       "      <td>https://www.arcgis.com/home/webmap/viewer.html...</td>\n",
       "    </tr>\n",
       "    <tr>\n",
       "      <th>45982</th>\n",
       "      <td>Zimbabwe</td>\n",
       "      <td>ZWE</td>\n",
       "      <td>2021-09-19</td>\n",
       "      <td>5015041.0</td>\n",
       "      <td>2948725.0</td>\n",
       "      <td>2066316.0</td>\n",
       "      <td>22540.0</td>\n",
       "      <td>40630.0</td>\n",
       "      <td>33.23</td>\n",
       "      <td>19.54</td>\n",
       "      <td>13.69</td>\n",
       "      <td>2692.0</td>\n",
       "      <td>Oxford/AstraZeneca, Sinopharm/Beijing, Sinovac...</td>\n",
       "      <td>Ministry of Health</td>\n",
       "      <td>https://www.arcgis.com/home/webmap/viewer.html...</td>\n",
       "    </tr>\n",
       "    <tr>\n",
       "      <th>45983</th>\n",
       "      <td>Zimbabwe</td>\n",
       "      <td>ZWE</td>\n",
       "      <td>2021-09-20</td>\n",
       "      <td>5044809.0</td>\n",
       "      <td>2961845.0</td>\n",
       "      <td>2082964.0</td>\n",
       "      <td>29768.0</td>\n",
       "      <td>41779.0</td>\n",
       "      <td>33.43</td>\n",
       "      <td>19.63</td>\n",
       "      <td>13.80</td>\n",
       "      <td>2768.0</td>\n",
       "      <td>Oxford/AstraZeneca, Sinopharm/Beijing, Sinovac...</td>\n",
       "      <td>Ministry of Health</td>\n",
       "      <td>https://www.arcgis.com/home/webmap/viewer.html...</td>\n",
       "    </tr>\n",
       "  </tbody>\n",
       "</table>\n",
       "<p>45984 rows × 15 columns</p>\n",
       "</div>"
      ],
      "text/plain": [
       "           country iso_code        date  total_vaccinations  \\\n",
       "0      Afghanistan      AFG  2021-02-22                 0.0   \n",
       "1      Afghanistan      AFG  2021-02-23                 NaN   \n",
       "2      Afghanistan      AFG  2021-02-24                 NaN   \n",
       "3      Afghanistan      AFG  2021-02-25                 NaN   \n",
       "4      Afghanistan      AFG  2021-02-26                 NaN   \n",
       "...            ...      ...         ...                 ...   \n",
       "45979     Zimbabwe      ZWE  2021-09-16           4964302.0   \n",
       "45980     Zimbabwe      ZWE  2021-09-17                 NaN   \n",
       "45981     Zimbabwe      ZWE  2021-09-18           4992501.0   \n",
       "45982     Zimbabwe      ZWE  2021-09-19           5015041.0   \n",
       "45983     Zimbabwe      ZWE  2021-09-20           5044809.0   \n",
       "\n",
       "       people_vaccinated  people_fully_vaccinated  daily_vaccinations_raw  \\\n",
       "0                    0.0                      NaN                     NaN   \n",
       "1                    NaN                      NaN                     NaN   \n",
       "2                    NaN                      NaN                     NaN   \n",
       "3                    NaN                      NaN                     NaN   \n",
       "4                    NaN                      NaN                     NaN   \n",
       "...                  ...                      ...                     ...   \n",
       "45979          2930550.0                2033752.0                108486.0   \n",
       "45980                NaN                      NaN                     NaN   \n",
       "45981          2940750.0                2051751.0                     NaN   \n",
       "45982          2948725.0                2066316.0                 22540.0   \n",
       "45983          2961845.0                2082964.0                 29768.0   \n",
       "\n",
       "       daily_vaccinations  total_vaccinations_per_hundred  \\\n",
       "0                     NaN                            0.00   \n",
       "1                  1367.0                             NaN   \n",
       "2                  1367.0                             NaN   \n",
       "3                  1367.0                             NaN   \n",
       "4                  1367.0                             NaN   \n",
       "...                   ...                             ...   \n",
       "45979             51755.0                           32.89   \n",
       "45980             45993.0                             NaN   \n",
       "45981             40514.0                           33.08   \n",
       "45982             40630.0                           33.23   \n",
       "45983             41779.0                           33.43   \n",
       "\n",
       "       people_vaccinated_per_hundred  people_fully_vaccinated_per_hundred  \\\n",
       "0                               0.00                                  NaN   \n",
       "1                                NaN                                  NaN   \n",
       "2                                NaN                                  NaN   \n",
       "3                                NaN                                  NaN   \n",
       "4                                NaN                                  NaN   \n",
       "...                              ...                                  ...   \n",
       "45979                          19.42                                13.48   \n",
       "45980                            NaN                                  NaN   \n",
       "45981                          19.49                                13.59   \n",
       "45982                          19.54                                13.69   \n",
       "45983                          19.63                                13.80   \n",
       "\n",
       "       daily_vaccinations_per_million  \\\n",
       "0                                 NaN   \n",
       "1                                34.0   \n",
       "2                                34.0   \n",
       "3                                34.0   \n",
       "4                                34.0   \n",
       "...                               ...   \n",
       "45979                          3429.0   \n",
       "45980                          3047.0   \n",
       "45981                          2684.0   \n",
       "45982                          2692.0   \n",
       "45983                          2768.0   \n",
       "\n",
       "                                                vaccines  \\\n",
       "0      Johnson&Johnson, Oxford/AstraZeneca, Pfizer/Bi...   \n",
       "1      Johnson&Johnson, Oxford/AstraZeneca, Pfizer/Bi...   \n",
       "2      Johnson&Johnson, Oxford/AstraZeneca, Pfizer/Bi...   \n",
       "3      Johnson&Johnson, Oxford/AstraZeneca, Pfizer/Bi...   \n",
       "4      Johnson&Johnson, Oxford/AstraZeneca, Pfizer/Bi...   \n",
       "...                                                  ...   \n",
       "45979  Oxford/AstraZeneca, Sinopharm/Beijing, Sinovac...   \n",
       "45980  Oxford/AstraZeneca, Sinopharm/Beijing, Sinovac...   \n",
       "45981  Oxford/AstraZeneca, Sinopharm/Beijing, Sinovac...   \n",
       "45982  Oxford/AstraZeneca, Sinopharm/Beijing, Sinovac...   \n",
       "45983  Oxford/AstraZeneca, Sinopharm/Beijing, Sinovac...   \n",
       "\n",
       "                     source_name  \\\n",
       "0      World Health Organization   \n",
       "1      World Health Organization   \n",
       "2      World Health Organization   \n",
       "3      World Health Organization   \n",
       "4      World Health Organization   \n",
       "...                          ...   \n",
       "45979         Ministry of Health   \n",
       "45980         Ministry of Health   \n",
       "45981         Ministry of Health   \n",
       "45982         Ministry of Health   \n",
       "45983         Ministry of Health   \n",
       "\n",
       "                                          source_website  \n",
       "0      https://app.powerbi.com/view?r=eyJrIjoiYTkyM2V...  \n",
       "1      https://app.powerbi.com/view?r=eyJrIjoiYTkyM2V...  \n",
       "2      https://app.powerbi.com/view?r=eyJrIjoiYTkyM2V...  \n",
       "3      https://app.powerbi.com/view?r=eyJrIjoiYTkyM2V...  \n",
       "4      https://app.powerbi.com/view?r=eyJrIjoiYTkyM2V...  \n",
       "...                                                  ...  \n",
       "45979  https://www.arcgis.com/home/webmap/viewer.html...  \n",
       "45980  https://www.arcgis.com/home/webmap/viewer.html...  \n",
       "45981  https://www.arcgis.com/home/webmap/viewer.html...  \n",
       "45982  https://www.arcgis.com/home/webmap/viewer.html...  \n",
       "45983  https://www.arcgis.com/home/webmap/viewer.html...  \n",
       "\n",
       "[45984 rows x 15 columns]"
      ]
     },
     "execution_count": 4,
     "metadata": {},
     "output_type": "execute_result"
    }
   ],
   "source": [
    "filename = 'country_vaccinations.csv'\n",
    "data = pd.read_csv(filename)\n",
    "data"
   ]
  },
  {
   "cell_type": "markdown",
   "metadata": {},
   "source": [
    "### Removing row Duplicates\n",
    "\n",
    "* If there are any duplicated rows with same country and same date time we will remove it. <br>\n",
    "As we will see the shape of data won't change so there are no duplicated data. <br><br>\n",
    "* \"iso_code\" removed because it has no information rather than country name. \n",
    "\n",
    "### Duplicated rows = 0\n",
    "### Duplicated columns = 1(iso_code)"
   ]
  },
  {
   "cell_type": "code",
   "execution_count": 5,
   "metadata": {},
   "outputs": [
    {
     "name": "stdout",
     "output_type": "stream",
     "text": [
      "data shape: (45984, 15) - data shape after removing duplicate: (45984, 15)\n"
     ]
    }
   ],
   "source": [
    "data_droped_duplicates = data.drop_duplicates(['country', 'date'])\n",
    "print(f'data shape: {data.shape} - data shape after removing duplicate: {data_droped_duplicates.shape}')\n",
    "data = data_droped_duplicates\n",
    "data = data.drop(columns=['iso_code'])"
   ]
  },
  {
   "cell_type": "markdown",
   "metadata": {},
   "source": [
    "### Missing Values"
   ]
  },
  {
   "cell_type": "code",
   "execution_count": 6,
   "metadata": {},
   "outputs": [
    {
     "data": {
      "text/plain": [
       "country                                0.000000\n",
       "date                                   0.000000\n",
       "total_vaccinations                     0.454506\n",
       "people_vaccinated                      0.479254\n",
       "people_fully_vaccinated                0.542276\n",
       "daily_vaccinations_raw                 0.552018\n",
       "daily_vaccinations                     0.006676\n",
       "total_vaccinations_per_hundred         0.454506\n",
       "people_vaccinated_per_hundred          0.479254\n",
       "people_fully_vaccinated_per_hundred    0.542276\n",
       "daily_vaccinations_per_million         0.006676\n",
       "vaccines                               0.000000\n",
       "source_name                            0.000000\n",
       "source_website                         0.000000\n",
       "dtype: float64"
      ]
     },
     "execution_count": 6,
     "metadata": {},
     "output_type": "execute_result"
    }
   ],
   "source": [
    "data.isna().sum()/data.shape[0]"
   ]
  },
  {
   "cell_type": "markdown",
   "metadata": {},
   "source": [
    "* Columns that have information of number of vaccinations just have missing values\n",
    "\n",
    "* daily_vaccinations column has the least misssing values. Those missing values are for first row of each\n",
    "  country. So we fill it with backward method to put the next day daily_vaccinations into it.\n",
    "  Also we fill daily_vaccinations_per_million with same method.\n",
    " "
   ]
  },
  {
   "cell_type": "code",
   "execution_count": 7,
   "metadata": {},
   "outputs": [],
   "source": [
    "data['daily_vaccinations'] = data['daily_vaccinations'].fillna(method='bfill')\n",
    "data['daily_vaccinations_per_million'] = data['daily_vaccinations_per_million'].fillna(method='bfill')\n"
   ]
  },
  {
   "cell_type": "markdown",
   "metadata": {},
   "source": [
    "* We delete all columns that has more than 20 percent missing values. <br><br>\n",
    "* We don't delete any rows because for each row we have at list daily vaccinations filled <br >\n",
    "some value and it has information for our data analysis about vaccinations.\n",
    "\n",
    "### Deleted rows = 0\n",
    "### Deleted columns =  7"
   ]
  },
  {
   "cell_type": "code",
   "execution_count": 8,
   "metadata": {},
   "outputs": [],
   "source": [
    "del data['total_vaccinations']                    \n",
    "del data['people_vaccinated']                     \n",
    "del data['people_fully_vaccinated']               \n",
    "del data['daily_vaccinations_raw']                \n",
    "del data['total_vaccinations_per_hundred']        \n",
    "del data['people_vaccinated_per_hundred']         \n",
    "del data['people_fully_vaccinated_per_hundred']   "
   ]
  },
  {
   "cell_type": "markdown",
   "metadata": {},
   "source": [
    "### Finally we see there is no missing value in data"
   ]
  },
  {
   "cell_type": "code",
   "execution_count": 9,
   "metadata": {},
   "outputs": [
    {
     "data": {
      "text/plain": [
       "country                           0.0\n",
       "date                              0.0\n",
       "daily_vaccinations                0.0\n",
       "daily_vaccinations_per_million    0.0\n",
       "vaccines                          0.0\n",
       "source_name                       0.0\n",
       "source_website                    0.0\n",
       "dtype: float64"
      ]
     },
     "execution_count": 9,
     "metadata": {},
     "output_type": "execute_result"
    }
   ],
   "source": [
    "data.isna().sum()/data.shape[0]"
   ]
  },
  {
   "cell_type": "markdown",
   "metadata": {},
   "source": [
    "## c) log file"
   ]
  },
  {
   "cell_type": "code",
   "execution_count": 11,
   "metadata": {},
   "outputs": [
    {
     "data": {
      "text/plain": [
       "array(['Linus Torvalds', 'Adrian Hunter', 'Kees Cook', ..., 'Niu YaWei',\n",
       "       'Jason Davis', 'Giovambattista Pulcini'], dtype=object)"
      ]
     },
     "execution_count": 11,
     "metadata": {},
     "output_type": "execute_result"
    }
   ],
   "source": [
    "git_log = pd.read_csv( 'git.log', sep='#', header=None, names=['id', 'author'] )\n",
    "unique_authors = git_log['author'].unique()\n",
    "unique_authors\n"
   ]
  },
  {
   "cell_type": "markdown",
   "metadata": {},
   "source": [
    "# Part 2"
   ]
  },
  {
   "cell_type": "markdown",
   "metadata": {},
   "source": [
    "## a) txt file"
   ]
  },
  {
   "cell_type": "code",
   "execution_count": 12,
   "metadata": {},
   "outputs": [
    {
     "name": "stdout",
     "output_type": "stream",
     "text": [
      "number of all words: 160105\n",
      "number of all distinct words: 32876\n"
     ]
    }
   ],
   "source": [
    "print(f'number of all words: {len(words)}')\n",
    "print(f'number of all distinct words: {len(set(words))}')"
   ]
  },
  {
   "cell_type": "markdown",
   "metadata": {},
   "source": [
    "## b) csv file"
   ]
  },
  {
   "cell_type": "markdown",
   "metadata": {},
   "source": [
    "### Staistics"
   ]
  },
  {
   "cell_type": "code",
   "execution_count": 13,
   "metadata": {},
   "outputs": [
    {
     "data": {
      "text/html": [
       "<div>\n",
       "<style scoped>\n",
       "    .dataframe tbody tr th:only-of-type {\n",
       "        vertical-align: middle;\n",
       "    }\n",
       "\n",
       "    .dataframe tbody tr th {\n",
       "        vertical-align: top;\n",
       "    }\n",
       "\n",
       "    .dataframe thead th {\n",
       "        text-align: right;\n",
       "    }\n",
       "</style>\n",
       "<table border=\"1\" class=\"dataframe\">\n",
       "  <thead>\n",
       "    <tr style=\"text-align: right;\">\n",
       "      <th></th>\n",
       "      <th>daily_vaccinations</th>\n",
       "      <th>daily_vaccinations_per_million</th>\n",
       "    </tr>\n",
       "  </thead>\n",
       "  <tbody>\n",
       "    <tr>\n",
       "      <th>count</th>\n",
       "      <td>4.598400e+04</td>\n",
       "      <td>45984.000000</td>\n",
       "    </tr>\n",
       "    <tr>\n",
       "      <th>mean</th>\n",
       "      <td>1.300630e+05</td>\n",
       "      <td>3541.054715</td>\n",
       "    </tr>\n",
       "    <tr>\n",
       "      <th>std</th>\n",
       "      <td>8.729856e+05</td>\n",
       "      <td>4473.399298</td>\n",
       "    </tr>\n",
       "    <tr>\n",
       "      <th>min</th>\n",
       "      <td>0.000000e+00</td>\n",
       "      <td>0.000000</td>\n",
       "    </tr>\n",
       "    <tr>\n",
       "      <th>25%</th>\n",
       "      <td>8.517500e+02</td>\n",
       "      <td>501.000000</td>\n",
       "    </tr>\n",
       "    <tr>\n",
       "      <th>50%</th>\n",
       "      <td>6.639000e+03</td>\n",
       "      <td>2175.000000</td>\n",
       "    </tr>\n",
       "    <tr>\n",
       "      <th>75%</th>\n",
       "      <td>4.125650e+04</td>\n",
       "      <td>5289.000000</td>\n",
       "    </tr>\n",
       "    <tr>\n",
       "      <th>max</th>\n",
       "      <td>2.242429e+07</td>\n",
       "      <td>117497.000000</td>\n",
       "    </tr>\n",
       "  </tbody>\n",
       "</table>\n",
       "</div>"
      ],
      "text/plain": [
       "       daily_vaccinations  daily_vaccinations_per_million\n",
       "count        4.598400e+04                    45984.000000\n",
       "mean         1.300630e+05                     3541.054715\n",
       "std          8.729856e+05                     4473.399298\n",
       "min          0.000000e+00                        0.000000\n",
       "25%          8.517500e+02                      501.000000\n",
       "50%          6.639000e+03                     2175.000000\n",
       "75%          4.125650e+04                     5289.000000\n",
       "max          2.242429e+07                   117497.000000"
      ]
     },
     "execution_count": 13,
     "metadata": {},
     "output_type": "execute_result"
    }
   ],
   "source": [
    "data.describe()"
   ]
  },
  {
   "cell_type": "markdown",
   "metadata": {},
   "source": [
    "### first vaccination column"
   ]
  },
  {
   "cell_type": "code",
   "execution_count": 14,
   "metadata": {},
   "outputs": [],
   "source": [
    "data['first_vac'] = data['vaccines'].apply(lambda vaccines: str.split(vaccines, ',')[0])"
   ]
  },
  {
   "cell_type": "markdown",
   "metadata": {},
   "source": [
    "### Maxmimum and minimum vaccinations from daily_vaccinations column"
   ]
  },
  {
   "cell_type": "code",
   "execution_count": 15,
   "metadata": {},
   "outputs": [
    {
     "name": "stdout",
     "output_type": "stream",
     "text": [
      "############### 5 least vaccinated countries ###############\n",
      "country\n",
      "Pitcairn          43.0\n",
      "Turkmenistan     312.0\n",
      "Tokelau         1068.0\n",
      "Niue            2571.0\n",
      "Montserrat      3002.0\n",
      "Name: daily_vaccinations, dtype: float64\n",
      "############### 5 most vaccinated countries ###############\n",
      "country\n",
      "Japan            1.505581e+08\n",
      "Brazil           2.192984e+08\n",
      "United States    3.838358e+08\n",
      "India            7.829250e+08\n",
      "China            2.168783e+09\n",
      "Name: daily_vaccinations, dtype: float64\n"
     ]
    }
   ],
   "source": [
    "total_vaccinations_for_each_country = data.groupby(['country'])['daily_vaccinations'].sum().sort_values()\n",
    "print('#'*15, '5 least vaccinated countries', '#'*15)\n",
    "print(total_vaccinations_for_each_country.head(5))\n",
    "print('#'*15, '5 most vaccinated countries', '#'*15)\n",
    "print(total_vaccinations_for_each_country.tail(5))"
   ]
  },
  {
   "cell_type": "markdown",
   "metadata": {},
   "source": [
    "### countries with most days without vaccinations"
   ]
  },
  {
   "cell_type": "code",
   "execution_count": 16,
   "metadata": {},
   "outputs": [
    {
     "data": {
      "text/plain": [
       "country\n",
       "Pitcairn         42\n",
       "Tuvalu           36\n",
       "Liechtenstein    29\n",
       "Montserrat       29\n",
       "Denmark          20\n",
       "Name: daily_vaccinations, dtype: int64"
      ]
     },
     "execution_count": 16,
     "metadata": {},
     "output_type": "execute_result"
    }
   ],
   "source": [
    "data.groupby('country')['daily_vaccinations'].apply(lambda x: x[x == 0].count()).sort_values(ascending=False).head(5)"
   ]
  },
  {
   "cell_type": "markdown",
   "metadata": {},
   "source": [
    "## Countries have more than 20 m vaccinations in a day. Just china with 12 days. <br>\n",
    "Computed from daily_vaccinations column"
   ]
  },
  {
   "cell_type": "code",
   "execution_count": 17,
   "metadata": {},
   "outputs": [
    {
     "data": {
      "text/plain": [
       "country\n",
       "China    13\n",
       "Name: daily_vaccinations, dtype: int64"
      ]
     },
     "execution_count": 17,
     "metadata": {},
     "output_type": "execute_result"
    }
   ],
   "source": [
    "number_of_days_each_country_has_more_than_20_m = data.groupby('country')['daily_vaccinations'].apply(lambda x: x[x > 20000000].count()).sort_values(ascending=False)\n",
    "number_of_days_each_country_has_more_than_20_m [number_of_days_each_country_has_more_than_20_m > 0]"
   ]
  },
  {
   "cell_type": "markdown",
   "metadata": {},
   "source": [
    "### I think question is wrong. Because as we see below the column vaccine is the same for each <br>\n",
    "### country for all of its rows. so question has no meaning."
   ]
  },
  {
   "cell_type": "code",
   "execution_count": 18,
   "metadata": {},
   "outputs": [
    {
     "data": {
      "text/plain": [
       "country\n",
       "Afghanistan    1\n",
       "Nicaragua      1\n",
       "Niger          1\n",
       "Nigeria        1\n",
       "Niue           1\n",
       "              ..\n",
       "Greenland      1\n",
       "Grenada        1\n",
       "Guatemala      1\n",
       "France         1\n",
       "Zimbabwe       1\n",
       "Name: vaccines, Length: 222, dtype: int64"
      ]
     },
     "execution_count": 18,
     "metadata": {},
     "output_type": "execute_result"
    }
   ],
   "source": [
    "data.groupby('country')['vaccines'].nunique().sort_values()"
   ]
  },
  {
   "cell_type": "markdown",
   "metadata": {},
   "source": [
    "## c) log file"
   ]
  },
  {
   "cell_type": "markdown",
   "metadata": {},
   "source": [
    "* contribution counts and rates for each author"
   ]
  },
  {
   "cell_type": "code",
   "execution_count": 19,
   "metadata": {},
   "outputs": [
    {
     "name": "stdout",
     "output_type": "stream",
     "text": [
      "Linus Torvalds     23361\n",
      "David S. Miller     9106\n",
      "Mark Brown          6802\n",
      "Takashi Iwai        6209\n",
      "Al Viro             6006\n",
      "                   ...  \n",
      "Steve Soule            1\n",
      "gouji-new              1\n",
      "Pau Pajuel             1\n",
      "Gr�goire Baron         1\n",
      "Eric Yuen              1\n",
      "Name: author, Length: 17382, dtype: int64\n",
      "Linus Torvalds     0.033417\n",
      "David S. Miller    0.013026\n",
      "Mark Brown         0.009730\n",
      "Takashi Iwai       0.008882\n",
      "Al Viro            0.008591\n",
      "                     ...   \n",
      "Steve Soule        0.000001\n",
      "gouji-new          0.000001\n",
      "Pau Pajuel         0.000001\n",
      "Gr�goire Baron     0.000001\n",
      "Eric Yuen          0.000001\n",
      "Name: author, Length: 17382, dtype: float64\n"
     ]
    }
   ],
   "source": [
    "print(git_log['author'].value_counts())\n",
    "print(git_log['author'].value_counts()/len(git_log))"
   ]
  },
  {
   "cell_type": "markdown",
   "metadata": {},
   "source": [
    "* 5 authors with most contribution"
   ]
  },
  {
   "cell_type": "code",
   "execution_count": 20,
   "metadata": {},
   "outputs": [
    {
     "data": {
      "text/plain": [
       "Linus Torvalds     23361\n",
       "David S. Miller     9106\n",
       "Mark Brown          6802\n",
       "Takashi Iwai        6209\n",
       "Al Viro             6006\n",
       "Name: author, dtype: int64"
      ]
     },
     "execution_count": 20,
     "metadata": {},
     "output_type": "execute_result"
    }
   ],
   "source": [
    "git_log['author'].value_counts().sort_values(ascending=False)[:5]"
   ]
  },
  {
   "cell_type": "markdown",
   "metadata": {},
   "source": [
    "### plot\n",
    "Because authors contributions has a exponential distribution we plot the histogram in three chunck. <br>\n",
    "We first sort authors by their contributions. Then we first plot the first 50 authors. <br>\n",
    "Then 50 to 500 and finally 500 to end.\n",
    "\n",
    "Here we can see the each part of total exponential distribution in three chunk better.\n",
    "\n",
    "* One author has a lot more conribution than others named Linus Torvalds, the Inventor!\n",
    "\n",
    "* Most of the authors have contributions near 1 commits.\n",
    "\n",
    "* (0 to 50) Their contributions range from 1800 to 23361 \n",
    "* (500 to end) Their contributions range from 250 to 1800 "
   ]
  },
  {
   "cell_type": "code",
   "execution_count": 21,
   "metadata": {},
   "outputs": [
    {
     "data": {
      "text/plain": [
       "Text(0.5, 1.0, '50 to end authors with most contributions')"
      ]
     },
     "execution_count": 21,
     "metadata": {},
     "output_type": "execute_result"
    },
    {
     "data": {
      "image/png": "[encoded data removed]",
      "text/plain": [
       "<Figure size 432x288 with 1 Axes>"
      ]
     },
     "metadata": {
      "needs_background": "light"
     },
     "output_type": "display_data"
    },
    {
     "data": {
      "image/png": "[encoded data removed]",
      "text/plain": [
       "<Figure size 432x288 with 1 Axes>"
      ]
     },
     "metadata": {
      "needs_background": "light"
     },
     "output_type": "display_data"
    },
    {
     "data": {
      "image/png": "[encoded data removed]",
      "text/plain": [
       "<Figure size 432x288 with 1 Axes>"
      ]
     },
     "metadata": {
      "needs_background": "light"
     },
     "output_type": "display_data"
    }
   ],
   "source": [
    "plt.hist(git_log['author'].value_counts().sort_values(ascending=False)[:50].reset_index(drop=True), bins=30)\n",
    "plt.title('first 50 authors with most contributions')\n",
    "plt.figure()\n",
    "plt.hist(git_log['author'].value_counts().sort_values(ascending=False)[50:500].reset_index(drop=True), bins=30)\n",
    "plt.title('50 to 500 authors with most contributions')\n",
    "plt.figure()\n",
    "plt.hist(git_log['author'].value_counts().sort_values(ascending=False)[500:].reset_index(drop=True), bins=30)\n",
    "plt.title('50 to end authors with most contributions')\n"
   ]
  },
  {
   "cell_type": "markdown",
   "metadata": {},
   "source": [
    "# Part 3"
   ]
  },
  {
   "cell_type": "markdown",
   "metadata": {},
   "source": [
    "## csv file"
   ]
  },
  {
   "cell_type": "markdown",
   "metadata": {},
   "source": [
    "* data downloaded from https://data.humdata.org/dataset/coronavirus-covid-19-cases-and-deaths?"
   ]
  },
  {
   "cell_type": "code",
   "execution_count": 22,
   "metadata": {},
   "outputs": [],
   "source": [
    "filename = 'WHO-COVID-19-global-data.csv'\n",
    "df = pd.read_csv(filename)\n",
    "cases_deaths = df\n",
    "vaccines = data\n",
    "cases_deaths = cases_deaths.rename(columns={'Date_reported': 'date'})"
   ]
  },
  {
   "cell_type": "markdown",
   "metadata": {},
   "source": [
    "### Join two tables"
   ]
  },
  {
   "cell_type": "code",
   "execution_count": 23,
   "metadata": {},
   "outputs": [
    {
     "data": {
      "text/html": [
       "<div>\n",
       "<style scoped>\n",
       "    .dataframe tbody tr th:only-of-type {\n",
       "        vertical-align: middle;\n",
       "    }\n",
       "\n",
       "    .dataframe tbody tr th {\n",
       "        vertical-align: top;\n",
       "    }\n",
       "\n",
       "    .dataframe thead th {\n",
       "        text-align: right;\n",
       "    }\n",
       "</style>\n",
       "<table border=\"1\" class=\"dataframe\">\n",
       "  <thead>\n",
       "    <tr style=\"text-align: right;\">\n",
       "      <th></th>\n",
       "      <th>country</th>\n",
       "      <th>date</th>\n",
       "      <th>daily_vaccinations</th>\n",
       "      <th>daily_vaccinations_per_million</th>\n",
       "      <th>vaccines</th>\n",
       "      <th>source_name</th>\n",
       "      <th>source_website</th>\n",
       "      <th>first_vac</th>\n",
       "      <th>Country_code</th>\n",
       "      <th>Country</th>\n",
       "      <th>WHO_region</th>\n",
       "      <th>New_cases</th>\n",
       "      <th>Cumulative_cases</th>\n",
       "      <th>New_deaths</th>\n",
       "      <th>Cumulative_deaths</th>\n",
       "    </tr>\n",
       "  </thead>\n",
       "  <tbody>\n",
       "    <tr>\n",
       "      <th>0</th>\n",
       "      <td>Afghanistan</td>\n",
       "      <td>2021-02-22</td>\n",
       "      <td>1367.0</td>\n",
       "      <td>34.0</td>\n",
       "      <td>Johnson&amp;Johnson, Oxford/AstraZeneca, Pfizer/Bi...</td>\n",
       "      <td>World Health Organization</td>\n",
       "      <td>https://app.powerbi.com/view?r=eyJrIjoiYTkyM2V...</td>\n",
       "      <td>Johnson&amp;Johnson</td>\n",
       "      <td>AF</td>\n",
       "      <td>Afghanistan</td>\n",
       "      <td>EMRO</td>\n",
       "      <td>13</td>\n",
       "      <td>55617</td>\n",
       "      <td>1</td>\n",
       "      <td>2433</td>\n",
       "    </tr>\n",
       "    <tr>\n",
       "      <th>1</th>\n",
       "      <td>Afghanistan</td>\n",
       "      <td>2021-02-22</td>\n",
       "      <td>1367.0</td>\n",
       "      <td>34.0</td>\n",
       "      <td>Johnson&amp;Johnson, Oxford/AstraZeneca, Pfizer/Bi...</td>\n",
       "      <td>World Health Organization</td>\n",
       "      <td>https://app.powerbi.com/view?r=eyJrIjoiYTkyM2V...</td>\n",
       "      <td>Johnson&amp;Johnson</td>\n",
       "      <td>AL</td>\n",
       "      <td>Albania</td>\n",
       "      <td>EURO</td>\n",
       "      <td>1184</td>\n",
       "      <td>100246</td>\n",
       "      <td>13</td>\n",
       "      <td>1666</td>\n",
       "    </tr>\n",
       "    <tr>\n",
       "      <th>2</th>\n",
       "      <td>Afghanistan</td>\n",
       "      <td>2021-02-22</td>\n",
       "      <td>1367.0</td>\n",
       "      <td>34.0</td>\n",
       "      <td>Johnson&amp;Johnson, Oxford/AstraZeneca, Pfizer/Bi...</td>\n",
       "      <td>World Health Organization</td>\n",
       "      <td>https://app.powerbi.com/view?r=eyJrIjoiYTkyM2V...</td>\n",
       "      <td>Johnson&amp;Johnson</td>\n",
       "      <td>DZ</td>\n",
       "      <td>Algeria</td>\n",
       "      <td>AFRO</td>\n",
       "      <td>153</td>\n",
       "      <td>111917</td>\n",
       "      <td>3</td>\n",
       "      <td>2961</td>\n",
       "    </tr>\n",
       "    <tr>\n",
       "      <th>3</th>\n",
       "      <td>Afghanistan</td>\n",
       "      <td>2021-02-22</td>\n",
       "      <td>1367.0</td>\n",
       "      <td>34.0</td>\n",
       "      <td>Johnson&amp;Johnson, Oxford/AstraZeneca, Pfizer/Bi...</td>\n",
       "      <td>World Health Organization</td>\n",
       "      <td>https://app.powerbi.com/view?r=eyJrIjoiYTkyM2V...</td>\n",
       "      <td>Johnson&amp;Johnson</td>\n",
       "      <td>AS</td>\n",
       "      <td>American Samoa</td>\n",
       "      <td>WPRO</td>\n",
       "      <td>0</td>\n",
       "      <td>0</td>\n",
       "      <td>0</td>\n",
       "      <td>0</td>\n",
       "    </tr>\n",
       "    <tr>\n",
       "      <th>4</th>\n",
       "      <td>Afghanistan</td>\n",
       "      <td>2021-02-22</td>\n",
       "      <td>1367.0</td>\n",
       "      <td>34.0</td>\n",
       "      <td>Johnson&amp;Johnson, Oxford/AstraZeneca, Pfizer/Bi...</td>\n",
       "      <td>World Health Organization</td>\n",
       "      <td>https://app.powerbi.com/view?r=eyJrIjoiYTkyM2V...</td>\n",
       "      <td>Johnson&amp;Johnson</td>\n",
       "      <td>AD</td>\n",
       "      <td>Andorra</td>\n",
       "      <td>EURO</td>\n",
       "      <td>27</td>\n",
       "      <td>10699</td>\n",
       "      <td>0</td>\n",
       "      <td>107</td>\n",
       "    </tr>\n",
       "    <tr>\n",
       "      <th>...</th>\n",
       "      <td>...</td>\n",
       "      <td>...</td>\n",
       "      <td>...</td>\n",
       "      <td>...</td>\n",
       "      <td>...</td>\n",
       "      <td>...</td>\n",
       "      <td>...</td>\n",
       "      <td>...</td>\n",
       "      <td>...</td>\n",
       "      <td>...</td>\n",
       "      <td>...</td>\n",
       "      <td>...</td>\n",
       "      <td>...</td>\n",
       "      <td>...</td>\n",
       "      <td>...</td>\n",
       "    </tr>\n",
       "    <tr>\n",
       "      <th>10898203</th>\n",
       "      <td>Wales</td>\n",
       "      <td>2020-12-13</td>\n",
       "      <td>2257.0</td>\n",
       "      <td>712.0</td>\n",
       "      <td>Moderna, Oxford/AstraZeneca, Pfizer/BioNTech</td>\n",
       "      <td>Government of the United Kingdom</td>\n",
       "      <td>https://coronavirus.data.gov.uk/details/vaccin...</td>\n",
       "      <td>Moderna</td>\n",
       "      <td>VN</td>\n",
       "      <td>Viet Nam</td>\n",
       "      <td>WPRO</td>\n",
       "      <td>4</td>\n",
       "      <td>1395</td>\n",
       "      <td>0</td>\n",
       "      <td>35</td>\n",
       "    </tr>\n",
       "    <tr>\n",
       "      <th>10898204</th>\n",
       "      <td>Wales</td>\n",
       "      <td>2020-12-13</td>\n",
       "      <td>2257.0</td>\n",
       "      <td>712.0</td>\n",
       "      <td>Moderna, Oxford/AstraZeneca, Pfizer/BioNTech</td>\n",
       "      <td>Government of the United Kingdom</td>\n",
       "      <td>https://coronavirus.data.gov.uk/details/vaccin...</td>\n",
       "      <td>Moderna</td>\n",
       "      <td>WF</td>\n",
       "      <td>Wallis and Futuna</td>\n",
       "      <td>WPRO</td>\n",
       "      <td>0</td>\n",
       "      <td>3</td>\n",
       "      <td>0</td>\n",
       "      <td>0</td>\n",
       "    </tr>\n",
       "    <tr>\n",
       "      <th>10898205</th>\n",
       "      <td>Wales</td>\n",
       "      <td>2020-12-13</td>\n",
       "      <td>2257.0</td>\n",
       "      <td>712.0</td>\n",
       "      <td>Moderna, Oxford/AstraZeneca, Pfizer/BioNTech</td>\n",
       "      <td>Government of the United Kingdom</td>\n",
       "      <td>https://coronavirus.data.gov.uk/details/vaccin...</td>\n",
       "      <td>Moderna</td>\n",
       "      <td>YE</td>\n",
       "      <td>Yemen</td>\n",
       "      <td>EMRO</td>\n",
       "      <td>1</td>\n",
       "      <td>2087</td>\n",
       "      <td>0</td>\n",
       "      <td>607</td>\n",
       "    </tr>\n",
       "    <tr>\n",
       "      <th>10898206</th>\n",
       "      <td>Wales</td>\n",
       "      <td>2020-12-13</td>\n",
       "      <td>2257.0</td>\n",
       "      <td>712.0</td>\n",
       "      <td>Moderna, Oxford/AstraZeneca, Pfizer/BioNTech</td>\n",
       "      <td>Government of the United Kingdom</td>\n",
       "      <td>https://coronavirus.data.gov.uk/details/vaccin...</td>\n",
       "      <td>Moderna</td>\n",
       "      <td>ZM</td>\n",
       "      <td>Zambia</td>\n",
       "      <td>AFRO</td>\n",
       "      <td>0</td>\n",
       "      <td>18091</td>\n",
       "      <td>0</td>\n",
       "      <td>364</td>\n",
       "    </tr>\n",
       "    <tr>\n",
       "      <th>10898207</th>\n",
       "      <td>Wales</td>\n",
       "      <td>2020-12-13</td>\n",
       "      <td>2257.0</td>\n",
       "      <td>712.0</td>\n",
       "      <td>Moderna, Oxford/AstraZeneca, Pfizer/BioNTech</td>\n",
       "      <td>Government of the United Kingdom</td>\n",
       "      <td>https://coronavirus.data.gov.uk/details/vaccin...</td>\n",
       "      <td>Moderna</td>\n",
       "      <td>ZW</td>\n",
       "      <td>Zimbabwe</td>\n",
       "      <td>AFRO</td>\n",
       "      <td>0</td>\n",
       "      <td>11081</td>\n",
       "      <td>0</td>\n",
       "      <td>305</td>\n",
       "    </tr>\n",
       "  </tbody>\n",
       "</table>\n",
       "<p>10898208 rows × 15 columns</p>\n",
       "</div>"
      ],
      "text/plain": [
       "              country        date  daily_vaccinations  \\\n",
       "0         Afghanistan  2021-02-22              1367.0   \n",
       "1         Afghanistan  2021-02-22              1367.0   \n",
       "2         Afghanistan  2021-02-22              1367.0   \n",
       "3         Afghanistan  2021-02-22              1367.0   \n",
       "4         Afghanistan  2021-02-22              1367.0   \n",
       "...               ...         ...                 ...   \n",
       "10898203        Wales  2020-12-13              2257.0   \n",
       "10898204        Wales  2020-12-13              2257.0   \n",
       "10898205        Wales  2020-12-13              2257.0   \n",
       "10898206        Wales  2020-12-13              2257.0   \n",
       "10898207        Wales  2020-12-13              2257.0   \n",
       "\n",
       "          daily_vaccinations_per_million  \\\n",
       "0                                   34.0   \n",
       "1                                   34.0   \n",
       "2                                   34.0   \n",
       "3                                   34.0   \n",
       "4                                   34.0   \n",
       "...                                  ...   \n",
       "10898203                           712.0   \n",
       "10898204                           712.0   \n",
       "10898205                           712.0   \n",
       "10898206                           712.0   \n",
       "10898207                           712.0   \n",
       "\n",
       "                                                   vaccines  \\\n",
       "0         Johnson&Johnson, Oxford/AstraZeneca, Pfizer/Bi...   \n",
       "1         Johnson&Johnson, Oxford/AstraZeneca, Pfizer/Bi...   \n",
       "2         Johnson&Johnson, Oxford/AstraZeneca, Pfizer/Bi...   \n",
       "3         Johnson&Johnson, Oxford/AstraZeneca, Pfizer/Bi...   \n",
       "4         Johnson&Johnson, Oxford/AstraZeneca, Pfizer/Bi...   \n",
       "...                                                     ...   \n",
       "10898203       Moderna, Oxford/AstraZeneca, Pfizer/BioNTech   \n",
       "10898204       Moderna, Oxford/AstraZeneca, Pfizer/BioNTech   \n",
       "10898205       Moderna, Oxford/AstraZeneca, Pfizer/BioNTech   \n",
       "10898206       Moderna, Oxford/AstraZeneca, Pfizer/BioNTech   \n",
       "10898207       Moderna, Oxford/AstraZeneca, Pfizer/BioNTech   \n",
       "\n",
       "                               source_name  \\\n",
       "0                World Health Organization   \n",
       "1                World Health Organization   \n",
       "2                World Health Organization   \n",
       "3                World Health Organization   \n",
       "4                World Health Organization   \n",
       "...                                    ...   \n",
       "10898203  Government of the United Kingdom   \n",
       "10898204  Government of the United Kingdom   \n",
       "10898205  Government of the United Kingdom   \n",
       "10898206  Government of the United Kingdom   \n",
       "10898207  Government of the United Kingdom   \n",
       "\n",
       "                                             source_website        first_vac  \\\n",
       "0         https://app.powerbi.com/view?r=eyJrIjoiYTkyM2V...  Johnson&Johnson   \n",
       "1         https://app.powerbi.com/view?r=eyJrIjoiYTkyM2V...  Johnson&Johnson   \n",
       "2         https://app.powerbi.com/view?r=eyJrIjoiYTkyM2V...  Johnson&Johnson   \n",
       "3         https://app.powerbi.com/view?r=eyJrIjoiYTkyM2V...  Johnson&Johnson   \n",
       "4         https://app.powerbi.com/view?r=eyJrIjoiYTkyM2V...  Johnson&Johnson   \n",
       "...                                                     ...              ...   \n",
       "10898203  https://coronavirus.data.gov.uk/details/vaccin...          Moderna   \n",
       "10898204  https://coronavirus.data.gov.uk/details/vaccin...          Moderna   \n",
       "10898205  https://coronavirus.data.gov.uk/details/vaccin...          Moderna   \n",
       "10898206  https://coronavirus.data.gov.uk/details/vaccin...          Moderna   \n",
       "10898207  https://coronavirus.data.gov.uk/details/vaccin...          Moderna   \n",
       "\n",
       "         Country_code            Country WHO_region  New_cases  \\\n",
       "0                  AF        Afghanistan       EMRO         13   \n",
       "1                  AL            Albania       EURO       1184   \n",
       "2                  DZ            Algeria       AFRO        153   \n",
       "3                  AS     American Samoa       WPRO          0   \n",
       "4                  AD            Andorra       EURO         27   \n",
       "...               ...                ...        ...        ...   \n",
       "10898203           VN           Viet Nam       WPRO          4   \n",
       "10898204           WF  Wallis and Futuna       WPRO          0   \n",
       "10898205           YE              Yemen       EMRO          1   \n",
       "10898206           ZM             Zambia       AFRO          0   \n",
       "10898207           ZW           Zimbabwe       AFRO          0   \n",
       "\n",
       "          Cumulative_cases  New_deaths  Cumulative_deaths  \n",
       "0                    55617           1               2433  \n",
       "1                   100246          13               1666  \n",
       "2                   111917           3               2961  \n",
       "3                        0           0                  0  \n",
       "4                    10699           0                107  \n",
       "...                    ...         ...                ...  \n",
       "10898203              1395           0                 35  \n",
       "10898204                 3           0                  0  \n",
       "10898205              2087           0                607  \n",
       "10898206             18091           0                364  \n",
       "10898207             11081           0                305  \n",
       "\n",
       "[10898208 rows x 15 columns]"
      ]
     },
     "execution_count": 23,
     "metadata": {},
     "output_type": "execute_result"
    }
   ],
   "source": [
    "merged = vaccines.merge(cases_deaths, on='date', how='inner')\n",
    "merged"
   ]
  },
  {
   "cell_type": "markdown",
   "metadata": {},
   "source": [
    "### commulative vaccinations vs cases plot for Iran \n",
    "\n",
    "As we see when vaccines increases rate of increasing cases decreasees."
   ]
  },
  {
   "cell_type": "code",
   "execution_count": 24,
   "metadata": {},
   "outputs": [
    {
     "data": {
      "text/plain": [
       "Text(0.5, 1.0, 'cases vs vaccines')"
      ]
     },
     "execution_count": 24,
     "metadata": {},
     "output_type": "execute_result"
    },
    {
     "data": {
      "image/png": "[encoded data removed]",
      "text/plain": [
       "<Figure size 432x288 with 1 Axes>"
      ]
     },
     "metadata": {
      "needs_background": "light"
     },
     "output_type": "display_data"
    }
   ],
   "source": [
    "iran = merged[merged['country'] == 'Iran']\n",
    "\n",
    "plt.scatter(iran['daily_vaccinations'].cumsum(), iran['New_cases'].cumsum(), s=0.5)\n",
    "plt.ylabel('cases')\n",
    "plt.xlabel('vaccines')\n",
    "plt.title('cases vs vaccines')"
   ]
  }
 ],
 "metadata": {
  "interpreter": {
   "hash": "028218d09b3d591bd9f2f904b53f887ad8858d4f02c6674ea8cebc5d96b25f76"
  },
  "kernelspec": {
   "display_name": "Python 3.7.5 64-bit ('dsenv': virtualenv)",
   "name": "python3"
  },
  "language_info": {
   "codemirror_mode": {
    "name": "ipython",
    "version": 3
   },
   "file_extension": ".py",
   "mimetype": "text/x-python",
   "name": "python",
   "nbconvert_exporter": "python",
   "pygments_lexer": "ipython3",
   "version": "3.7.5"
  },
  "orig_nbformat": 4
 },
 "nbformat": 4,
 "nbformat_minor": 2
}
