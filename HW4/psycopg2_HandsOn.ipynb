{
 "cells": [
  {
   "cell_type": "markdown",
   "metadata": {},
   "source": [
    "# **RDBMS:**\n",
    "\n",
    "There are various RDBMS's:\n",
    "- **MySQL** (or MariaDB) is arguably the most popular [MariaDB is a community-developed, commercially supported fork of the MySQL]\n",
    "- **PostgreSQL** is arguably the best\n",
    "- **SQL Server** is good, but not free\n",
    "- There's more, but these are the main ones"
   ]
  },
  {
   "cell_type": "markdown",
   "metadata": {},
   "source": [
    "# **<font color='deepskyblue'>PostgreSQL - Python (psycopg2):</font>**\n",
    "\n",
    "<br>\n",
    "<img src=\"imgs/psycopg2_logo.png\" width=\"300\" height=\"300\">\n",
    "<br>\n",
    "<br>\n",
    "\n",
    "### - **How does python interact with python trough psycopg2:**\n",
    "\n",
    "<br>\n",
    "<img src=\"imgs/psycopg2_module.png\" width=\"900\" height=\"250\">\n",
    "<br>\n",
    "\n",
    "### **Install psycopg2:**\n",
    "```python\n",
    "pip install psycopg2\n",
    "```"
   ]
  },
  {
   "cell_type": "markdown",
   "metadata": {},
   "source": [
    "# **Work with psycopg2:**\n",
    "\n",
    "<br>\n",
    "<img src=\"imgs/psycopg2.png\" width=\"900\" height=\"230\">\n",
    "<br>"
   ]
  },
  {
   "cell_type": "markdown",
   "metadata": {},
   "source": [
    "## **First Look:**"
   ]
  },
  {
   "cell_type": "code",
   "execution_count": 4,
   "metadata": {},
   "outputs": [
    {
     "name": "stdout",
     "output_type": "stream",
     "text": [
      "(1, 'Chai', 8, 1, '10 boxes x 30 bags', 18.0, 39, 0, 10, 1)\n",
      "(2, 'Chang', 1, 1, '24 - 12 oz bottles', 19.0, 17, 40, 25, 1)\n",
      "(3, 'Aniseed Syrup', 1, 2, '12 - 550 ml bottles', 10.0, 13, 70, 25, 0)\n",
      "(4, \"Chef Anton's Cajun Seasoning\", 2, 2, '48 - 6 oz jars', 22.0, 53, 0, 0, 0)\n",
      "(5, \"Chef Anton's Gumbo Mix\", 2, 2, '36 boxes', 21.35, 0, 0, 0, 1)\n",
      "(6, \"Grandma's Boysenberry Spread\", 3, 2, '12 - 8 oz jars', 25.0, 120, 0, 25, 0)\n",
      "(7, \"Uncle Bob's Organic Dried Pears\", 3, 7, '12 - 1 lb pkgs.', 30.0, 15, 0, 10, 0)\n",
      "(8, 'Northwoods Cranberry Sauce', 3, 2, '12 - 12 oz jars', 40.0, 6, 0, 0, 0)\n",
      "(9, 'Mishi Kobe Niku', 4, 6, '18 - 500 g pkgs.', 97.0, 29, 0, 0, 1)\n",
      "(10, 'Ikura', 4, 8, '12 - 200 ml jars', 31.0, 31, 0, 0, 0)\n",
      "(16, 'Pavlova', 7, 3, '32 - 500 g boxes', 17.45, 29, 0, 10, 0)\n",
      "(17, 'Alice Mutton', 7, 6, '20 - 1 kg tins', 39.0, 0, 0, 0, 1)\n",
      "(18, 'Carnarvon Tigers', 7, 8, '16 kg pkg.', 62.5, 42, 0, 0, 0)\n",
      "(19, 'Teatime Chocolate Biscuits', 8, 3, '10 boxes x 12 pieces', 9.2, 25, 0, 5, 0)\n",
      "(20, \"Sir Rodney's Marmalade\", 8, 3, '30 gift boxes', 81.0, 40, 0, 0, 0)\n",
      "(21, \"Sir Rodney's Scones\", 8, 3, '24 pkgs. x 4 pieces', 10.0, 3, 40, 5, 0)\n",
      "(22, \"Gustaf's Knäckebröd\", 9, 5, '24 - 500 g pkgs.', 21.0, 104, 0, 25, 0)\n",
      "(23, 'Tunnbröd', 9, 5, '12 - 250 g pkgs.', 9.0, 61, 0, 25, 0)\n",
      "(24, 'Guaraná Fantástica', 10, 1, '12 - 355 ml cans', 4.5, 20, 0, 0, 1)\n",
      "(25, 'NuNuCa Nuß-Nougat-Creme', 11, 3, '20 - 450 g glasses', 14.0, 76, 0, 30, 0)\n",
      "(26, 'Gumbär Gummibärchen', 11, 3, '100 - 250 g bags', 31.23, 15, 0, 0, 0)\n",
      "(27, 'Schoggi Schokolade', 11, 3, '100 - 100 g pieces', 43.9, 49, 0, 30, 0)\n",
      "(28, 'Rössle Sauerkraut', 12, 7, '25 - 825 g cans', 45.6, 26, 0, 0, 1)\n",
      "(29, 'Thüringer Rostbratwurst', 12, 6, '50 bags x 30 sausgs.', 123.79, 0, 0, 0, 1)\n",
      "(30, 'Nord-Ost Matjeshering', 13, 8, '10 - 200 g glasses', 25.89, 10, 0, 15, 0)\n",
      "(34, 'Sasquatch Ale', 16, 1, '24 - 12 oz bottles', 14.0, 111, 0, 15, 0)\n",
      "(35, 'Steeleye Stout', 16, 1, '24 - 12 oz bottles', 18.0, 20, 0, 15, 0)\n",
      "(36, 'Inlagd Sill', 17, 8, '24 - 250 g  jars', 19.0, 112, 0, 20, 0)\n",
      "(37, 'Gravad lax', 17, 8, '12 - 500 g pkgs.', 26.0, 11, 50, 25, 0)\n",
      "(38, 'Côte de Blaye', 18, 1, '12 - 75 cl bottles', 263.5, 17, 0, 15, 0)\n",
      "(39, 'Chartreuse verte', 18, 1, '750 cc per bottle', 18.0, 69, 0, 5, 0)\n",
      "(40, 'Boston Crab Meat', 19, 8, '24 - 4 oz tins', 18.4, 123, 0, 30, 0)\n",
      "(41, \"Jack's New England Clam Chowder\", 19, 8, '12 - 12 oz cans', 9.65, 85, 0, 10, 0)\n",
      "(42, 'Singaporean Hokkien Fried Mee', 20, 5, '32 - 1 kg pkgs.', 14.0, 26, 0, 0, 1)\n",
      "(43, 'Ipoh Coffee', 20, 1, '16 - 500 g tins', 46.0, 17, 10, 25, 0)\n",
      "(44, 'Gula Malacca', 20, 2, '20 - 2 kg bags', 19.45, 27, 0, 15, 0)\n",
      "(45, 'Rogede sild', 21, 8, '1k pkg.', 9.5, 5, 70, 15, 0)\n",
      "(46, 'Spegesild', 21, 8, '4 - 450 g glasses', 12.0, 95, 0, 0, 0)\n",
      "(47, 'Zaanse koeken', 22, 3, '10 - 4 oz boxes', 9.5, 36, 0, 0, 0)\n",
      "(48, 'Chocolade', 22, 3, '10 pkgs.', 12.75, 15, 70, 25, 0)\n",
      "(49, 'Maxilaku', 23, 3, '24 - 50 g pkgs.', 20.0, 10, 60, 15, 0)\n",
      "(50, 'Valkoinen suklaa', 23, 3, '12 - 100 g bars', 16.25, 65, 0, 30, 0)\n",
      "(51, 'Manjimup Dried Apples', 24, 7, '50 - 300 g pkgs.', 53.0, 20, 0, 10, 0)\n",
      "(52, 'Filo Mix', 24, 5, '16 - 2 kg boxes', 7.0, 38, 0, 25, 0)\n",
      "(53, 'Perth Pasties', 24, 6, '48 pieces', 32.8, 0, 0, 0, 1)\n",
      "(54, 'Tourtière', 25, 6, '16 pies', 7.45, 21, 0, 10, 0)\n",
      "(55, 'Pâté chinois', 25, 6, '24 boxes x 2 pies', 24.0, 115, 0, 20, 0)\n",
      "(56, 'Gnocchi di nonna Alice', 26, 5, '24 - 250 g pkgs.', 38.0, 21, 10, 30, 0)\n",
      "(57, 'Ravioli Angelo', 26, 5, '24 - 250 g pkgs.', 19.5, 36, 0, 20, 0)\n",
      "(58, 'Escargots de Bourgogne', 27, 8, '24 pieces', 13.25, 62, 0, 20, 0)\n",
      "(61, \"Sirop d'érable\", 29, 2, '24 - 500 ml bottles', 28.5, 113, 0, 25, 0)\n",
      "(62, 'Tarte au sucre', 29, 3, '48 pies', 49.3, 17, 0, 0, 0)\n",
      "(63, 'Vegie-spread', 7, 2, '15 - 625 g jars', 43.9, 24, 0, 5, 0)\n",
      "(64, 'Wimmers gute Semmelknödel', 12, 5, '20 bags x 4 pieces', 33.25, 22, 80, 30, 0)\n",
      "(65, 'Louisiana Fiery Hot Pepper Sauce', 2, 2, '32 - 8 oz bottles', 21.05, 76, 0, 0, 0)\n",
      "(66, 'Louisiana Hot Spiced Okra', 2, 2, '24 - 8 oz jars', 17.0, 4, 100, 20, 0)\n",
      "(67, 'Laughing Lumberjack Lager', 16, 1, '24 - 12 oz bottles', 14.0, 52, 0, 10, 0)\n",
      "(68, 'Scottish Longbreads', 8, 3, '10 boxes x 8 pieces', 12.5, 6, 10, 15, 0)\n",
      "(70, 'Outback Lager', 7, 1, '24 - 355 ml bottles', 15.0, 15, 10, 30, 0)\n",
      "(73, 'Röd Kaviar', 17, 8, '24 - 150 g jars', 15.0, 101, 0, 5, 0)\n",
      "(74, 'Longlife Tofu', 4, 7, '5 kg pkg.', 10.0, 4, 20, 5, 0)\n",
      "(75, 'Rhönbräu Klosterbier', 12, 1, '24 - 0.5 l bottles', 7.75, 125, 0, 25, 0)\n",
      "(76, 'Lakkalikööri', 23, 1, '500 ml', 18.0, 57, 0, 20, 0)\n",
      "(77, 'Original Frankfurter grüne Soße', 12, 2, '12 boxes', 13.0, 32, 0, 15, 0)\n",
      "(11, 'Queso Cabrales', 5, 4, '1 kg pkg.', 24.15, 22, 30, 30, 0)\n",
      "(12, 'Queso Manchego La Pastora', 5, 4, '10 - 500 g pkgs.', 43.7, 86, 0, 0, 0)\n",
      "(31, 'Gorgonzola Telino', 14, 4, '12 - 100 g pkgs', 14.375, 0, 70, 20, 0)\n",
      "(32, 'Mascarpone Fabioli', 14, 4, '24 - 200 g pkgs.', 36.8, 9, 40, 25, 0)\n",
      "(33, 'Geitost', 15, 4, '500 g', 2.875, 112, 0, 20, 0)\n",
      "(59, 'Raclette Courdavault', 28, 4, '5 kg pkg.', 63.25, 79, 0, 0, 0)\n",
      "(60, 'Camembert Pierrot', 28, 4, '15 - 300 g rounds', 39.1, 19, 0, 0, 0)\n",
      "(69, 'Gudbrandsdalsost', 15, 4, '10 kg pkg.', 41.4, 26, 0, 15, 0)\n",
      "(71, 'Flotemysost', 15, 4, '10 - 500 g pkgs.', 24.725, 26, 0, 0, 0)\n",
      "(72, 'Mozzarella di Giovanni', 14, 4, '24 - 200 g pkgs.', 40.02, 14, 0, 0, 0)\n",
      "(13, 'Konbu', 6, 8, '2 kg box', 6.534, 39, 0, 5, 0)\n",
      "(14, 'Tofu', 6, 7, '40 - 100 g pkgs.', 25.31925, 50, 0, 0, 0)\n",
      "(15, 'Genen Shouyu', 6, 2, '24 - 250 ml bottles', 14.157, 54, 0, 5, 0)\n"
     ]
    }
   ],
   "source": [
    "import psycopg2\n",
    "\n",
    "conn = psycopg2.connect(database='Northwind', user='ali', password='ali', host='localhost')\n",
    "cur = conn.cursor()\n",
    "\n",
    "cur.execute(\"SELECT * FROM Products\")\n",
    "\n",
    "for row in cur:\n",
    "    print(row)"
   ]
  },
  {
   "cell_type": "markdown",
   "metadata": {},
   "source": [
    "## **Connect function:**"
   ]
  },
  {
   "cell_type": "code",
   "execution_count": 5,
   "metadata": {},
   "outputs": [],
   "source": [
    "def connect():\n",
    "    return psycopg2.connect(database='Northwind', user='ali', password='ali', host='localhost')"
   ]
  },
  {
   "cell_type": "markdown",
   "metadata": {},
   "source": [
    "## **Creating Table with psycopg2:**\n",
    "\n",
    "- **In here we're going to create a function that is used to create two table for us, using psycppg2:**\n",
    "\n",
    "- you have to design tables named 'users' and 'contacts' in which contacts table has a foreign key to the users table."
   ]
  },
  {
   "cell_type": "code",
   "execution_count": 9,
   "metadata": {},
   "outputs": [],
   "source": [
    "def create_table():\n",
    "\n",
    "    commands = (\n",
    "        \"\"\"\n",
    "        CREATE TABLE IF NOT EXISTS users(\n",
    "            user_id INT GENERATED ALWAYS AS IDENTITY,\n",
    "            first_name VARCHAR(255) NOT NULL,\n",
    "            last_name VARCHAR(255) NOT NULL,\n",
    "            PRIMARY KEY (user_id)\n",
    "        )\n",
    "        \"\"\",\n",
    "        \"\"\"\n",
    "        CREATE TABLE IF NOT EXISTS contacts(\n",
    "            contact_id INT GENERATED ALWAYS AS IDENTITY,\n",
    "            user_id INT,\n",
    "            contact_name VARCHAR(255) NOT NULL,\n",
    "            phone VARCHAR(15),\n",
    "            email VARCHAR(100),\n",
    "            PRIMARY KEY (contact_id),\n",
    "            CONSTRAINT fk_user FOREIGN KEY (user_id) REFERENCES users (user_id)\n",
    "        )\n",
    "        \"\"\"\n",
    "    )\n",
    "\n",
    "\n",
    "\n",
    "    conn = None\n",
    "    try:\n",
    "        conn = connect()\n",
    "        cur = conn.cursor()\n",
    "        for command in commands:\n",
    "            cur.execute(command)\n",
    "\n",
    "        cur.close()\n",
    "        conn.commit()\n",
    "    \n",
    "    except (Exception, psycopg2.DatabaseError) as error:\n",
    "        print(error)\n",
    "\n",
    "    finally:\n",
    "        if conn is not None:\n",
    "            conn.close()\n",
    "\n",
    "create_table()"
   ]
  },
  {
   "cell_type": "code",
   "execution_count": 11,
   "metadata": {},
   "outputs": [],
   "source": [
    "class User:\n",
    "    def __init__(self, first_name, last_name, user_id):\n",
    "        self.first_name = first_name\n",
    "        self.last_name = last_name\n",
    "        self.user_id = user_id\n",
    "    \n",
    "    def __repr__(self):\n",
    "        return \"<User {}>\".format(self.user_id)\n",
    "\n",
    "    def save_to_db(self):\n",
    "        with connect() as conn:\n",
    "            with conn.cursor() as cur:\n",
    "                cur.execute(\"INSERT INTO users (first_name, last_name) VALUES (%s, %s)\", (self.first_name, self.last_name))\n",
    "                # conn.commit()\n",
    "    \n",
    "    @classmethod\n",
    "    def load_from_db_by_id(cls, user_id):\n",
    "        with connect() as conn:\n",
    "            with conn.cursor() as cur:\n",
    "                cur.execute(\"SELECT * FROM users WHERE user_id = %s\", (user_id,))\n",
    "                user_data = cur.fetchone()\n",
    "                return cls(user_data[1], user_data[2], user_data[0])"
   ]
  },
  {
   "cell_type": "code",
   "execution_count": 13,
   "metadata": {},
   "outputs": [],
   "source": [
    "class Contact:\n",
    "    def __init__(self, contact_name, phone, email, user_id, contact_id):\n",
    "        self.contact_name = contact_name\n",
    "        self.phone = phone\n",
    "        self.email = email\n",
    "        self.user_id = user_id\n",
    "        self.contact_id = contact_id\n",
    "    \n",
    "    def __repr__(self):\n",
    "        return \"<Contact {}>\".format(self.contact_id)\n",
    "\n",
    "    def save_to_db(self):\n",
    "        with connect() as conn:\n",
    "            with conn.cursor() as cur:\n",
    "                cur.execute('''INSERT INTO contacts (contact_name, phone, email, user_id) VALUES\n",
    "                (%s, %s, %s, (SELECT user_id from users WHERE user_id=%s))''', (self.contact_name, self.phone, self.email, self.user_id))\n",
    "                # conn.commit()\n",
    "\n",
    "    def print_data(self):\n",
    "        print(\"User id: {}, contact_name: {}, Phone: {}, Email: {}.\".format(\n",
    "            self.user_id,\n",
    "            self.contact_name,\n",
    "            self.phone,\n",
    "            self.email))\n",
    "\n",
    "    @classmethod\n",
    "    def load_from_db_by_emai(cls, email):\n",
    "        with connect() as conn:\n",
    "            with conn.cursor() as cur:\n",
    "                cur.execute(\"SELECT * FROM contacts WHERE email = %s\", (email,))\n",
    "                contact_data = cur.fetchone()\n",
    "                return cls(contact_data[2], contact_data[3], contact_data[4], contact_data[1], contact_data[0])"
   ]
  },
  {
   "cell_type": "code",
   "execution_count": 15,
   "metadata": {},
   "outputs": [],
   "source": [
    "my_user = User(\"Mohammad\", \"Izadi\", None)\n",
    "my_user.save_to_db()"
   ]
  },
  {
   "cell_type": "code",
   "execution_count": 21,
   "metadata": {},
   "outputs": [],
   "source": [
    "my_user2 = User.load_from_db_by_id(2)"
   ]
  },
  {
   "cell_type": "code",
   "execution_count": 22,
   "metadata": {},
   "outputs": [
    {
     "data": {
      "text/plain": [
       "'Mohammad'"
      ]
     },
     "execution_count": 22,
     "metadata": {},
     "output_type": "execute_result"
    }
   ],
   "source": [
    "my_user2.first_name"
   ]
  },
  {
   "cell_type": "code",
   "execution_count": 24,
   "metadata": {},
   "outputs": [],
   "source": [
    "my_contact = Contact(\"MIzadi\", \"987654321\", 'Ali@email.com', 2, None)\n",
    "my_contact.save_to_db()"
   ]
  },
  {
   "cell_type": "code",
   "execution_count": 26,
   "metadata": {},
   "outputs": [],
   "source": [
    "my_contact2 = Contact.load_from_db_by_emai('Ali@email.com')"
   ]
  },
  {
   "cell_type": "code",
   "execution_count": 28,
   "metadata": {},
   "outputs": [
    {
     "data": {
      "text/plain": [
       "'123456789'"
      ]
     },
     "execution_count": 28,
     "metadata": {},
     "output_type": "execute_result"
    }
   ],
   "source": [
    "my_contact2.phone"
   ]
  },
  {
   "cell_type": "code",
   "execution_count": 29,
   "metadata": {},
   "outputs": [
    {
     "name": "stdout",
     "output_type": "stream",
     "text": [
      "User id: 1, contact_name: AIzadi, Phone: 123456789, Email: Ali@email.com.\n"
     ]
    }
   ],
   "source": [
    "my_contact2.print_data()"
   ]
  },
  {
   "cell_type": "markdown",
   "metadata": {},
   "source": [
    "## **Write Query:**"
   ]
  },
  {
   "cell_type": "markdown",
   "metadata": {},
   "source": [
    "- In this part, we want to get the customers that have purchased the most (in value terms)"
   ]
  },
  {
   "cell_type": "code",
   "execution_count": 35,
   "metadata": {},
   "outputs": [],
   "source": [
    "MOST_PURCHASE_CUSTOMERS = \"\"\"\n",
    "SELECT customers.contact_name, customers.customer_id, SUM(order_details.quantity * order_details.unit_price) AS price, count(order_details.product_id) AS products\n",
    "from order_details\n",
    "inner join orders on order_details.order_id = orders.order_id\n",
    "inner join customers on orders.customer_id = customers.customer_id\n",
    "group by customers.customer_id\n",
    "order by price desc\n",
    "\"\"\""
   ]
  },
  {
   "cell_type": "code",
   "execution_count": 42,
   "metadata": {},
   "outputs": [
    {
     "data": {
      "text/plain": [
       "[('Horst Kloss', 'QUICK', 117483.390147686, 86),\n",
       " ('Jose Pavarotti', 'SAVEA', 115673.38964271545, 116),\n",
       " ('Roland Mendel', 'ERNSH', 113236.67978191376, 102),\n",
       " ('Patricia McKenna', 'HUNGO', 57317.39016246796, 55),\n",
       " ('Paula Wilson', 'RATTC', 52245.90034675598, 71)]"
      ]
     },
     "execution_count": 42,
     "metadata": {},
     "output_type": "execute_result"
    }
   ],
   "source": [
    "def get_most_purchase_customers():\n",
    "    with connect() as conn:\n",
    "        with conn.cursor() as cur:\n",
    "            cur.execute(MOST_PURCHASE_CUSTOMERS)\n",
    "            return cur.fetchmany(5)\n",
    "\n",
    "customers = get_most_purchase_customers()\n",
    "customers"
   ]
  },
  {
   "cell_type": "markdown",
   "metadata": {},
   "source": [
    "## **Draw Chart:**"
   ]
  },
  {
   "cell_type": "code",
   "execution_count": 55,
   "metadata": {},
   "outputs": [],
   "source": [
    "import matplotlib.pyplot as plt\n",
    "%matplotlib inline\n",
    "\n",
    "def create_bar_chart_from_db(query_results):\n",
    "    fig = plt.figure()\n",
    "\n",
    "    plt.bar(range(len(query_results)), [result[2] for result in query_results],\n",
    "            tick_label=[result[0] for result in query_results])\n",
    "\n",
    "    plt.xticks(rotation=30)   \n",
    "    plt.title(\"Most purchased customers\")\n",
    "    plt.xlabel(\"name\")\n",
    "    plt.ylabel(\"dollars\") \n"
   ]
  },
  {
   "cell_type": "code",
   "execution_count": 56,
   "metadata": {},
   "outputs": [
    {
     "data": {
      "image/png": "[encoded data removed]",
      "text/plain": [
       "<Figure size 432x288 with 1 Axes>"
      ]
     },
     "metadata": {
      "needs_background": "light"
     },
     "output_type": "display_data"
    }
   ],
   "source": [
    "create_bar_chart_from_db(customers)"
   ]
  }
 ],
 "metadata": {
  "interpreter": {
   "hash": "aee8b7b246df8f9039afb4144a1f6fd8d2ca17a180786b69acc140d282b71a49"
  },
  "kernelspec": {
   "display_name": "Python 3.9.7 64-bit",
   "name": "python3"
  },
  "language_info": {
   "codemirror_mode": {
    "name": "ipython",
    "version": 3
   },
   "file_extension": ".py",
   "mimetype": "text/x-python",
   "name": "python",
   "nbconvert_exporter": "python",
   "pygments_lexer": "ipython3",
   "version": "3.7.5"
  },
  "orig_nbformat": 4
 },
 "nbformat": 4,
 "nbformat_minor": 2
}
