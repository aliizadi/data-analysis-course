{
 "cells": [
  {
   "cell_type": "markdown",
   "metadata": {},
   "source": [
    "## Crypto Currency Hype!\n",
    "\n",
    "### Getting Historical data of cryptocurreny markets with library yfinance:https://pypi.org/project/yfinance/ <br>\n",
    "\n",
    "### Getting Google search Trends with library pytrends: https://github.com/GeneralMills/pytrends.\n",
    "\n",
    "### Merge These two data and compare price of these two symobols with their related google search trends.\n"
   ]
  },
  {
   "cell_type": "code",
   "execution_count": null,
   "metadata": {},
   "outputs": [],
   "source": [
    "! pip install yfinance\n",
    "! pip install pytrends"
   ]
  },
  {
   "cell_type": "markdown",
   "metadata": {},
   "source": [
    "## yfinance for eth and btc:"
   ]
  },
  {
   "cell_type": "code",
   "execution_count": 1,
   "metadata": {},
   "outputs": [
    {
     "name": "stdout",
     "output_type": "stream",
     "text": [
      "[*********************100%***********************]  1 of 1 completed\n",
      "[*********************100%***********************]  1 of 1 completed\n"
     ]
    }
   ],
   "source": [
    "import yfinance as yf \n",
    "import datetime\n",
    "\n",
    "sd = datetime.date(2017, 1, 1)\n",
    "ed = datetime.date(2021, 1, 1)\n",
    "btcusd = yf.download(tickers='BTC-USD', start=sd, end=ed, interval=\"1d\")\n",
    "ethusd = yf.download(tickers='ETH-USD', start=sd, end=ed, interval=\"1d\")"
   ]
  },
  {
   "cell_type": "markdown",
   "metadata": {},
   "source": [
    "## pytrends for google searches\n",
    "it retrieves interests for each search keywords over time"
   ]
  },
  {
   "cell_type": "code",
   "execution_count": 2,
   "metadata": {},
   "outputs": [],
   "source": [
    "import pandas as pd                        \n",
    "from pytrends.request import TrendReq\n",
    "\n",
    "pytrends = TrendReq()\n",
    "\n",
    "pytrends.build_payload(['bitcoin', 'ethereum'], cat=0, timeframe='today 5-y') \n",
    "trends = pytrends.interest_over_time() "
   ]
  },
  {
   "cell_type": "markdown",
   "metadata": {},
   "source": [
    "## We will merge two data and plot interest and price for each symbol: bitcoin and ethereum to compare them"
   ]
  },
  {
   "cell_type": "code",
   "execution_count": 3,
   "metadata": {},
   "outputs": [
    {
     "data": {
      "text/plain": [
       "array([<AxesSubplot:>, <AxesSubplot:>, <AxesSubplot:>, <AxesSubplot:>],\n",
       "      dtype=object)"
      ]
     },
     "execution_count": 3,
     "metadata": {},
     "output_type": "execute_result"
    },
    {
     "data": {
      "image/png": "[encoded data removed]",
      "text/plain": [
       "<Figure size 432x288 with 4 Axes>"
      ]
     },
     "metadata": {
      "needs_background": "light"
     },
     "output_type": "display_data"
    }
   ],
   "source": [
    "merged = trends.join(btcusd[['Close']].rename(columns={'Close': 'btc_price'}), how='inner').join(ethusd[['Close']].rename(columns={'Close': 'eth_price'}), how='inner')\n",
    "del merged['isPartial']\n",
    "\n",
    "merged.plot(subplots=True)\n"
   ]
  },
  {
   "cell_type": "markdown",
   "metadata": {},
   "source": [
    "## As we can see there are correlation with the interest in google and price of the symbols. <br>\n",
    "\n",
    "## Let's plot the correlation. "
   ]
  },
  {
   "cell_type": "code",
   "execution_count": 4,
   "metadata": {},
   "outputs": [
    {
     "data": {
      "text/html": [
       "<style  type=\"text/css\" >\n",
       "#T_36817_row0_col0,#T_36817_row1_col1,#T_36817_row2_col2,#T_36817_row3_col3{\n",
       "            background-color:  #b40426;\n",
       "            color:  #f1f1f1;\n",
       "        }#T_36817_row0_col1{\n",
       "            background-color:  #f7ac8e;\n",
       "            color:  #000000;\n",
       "        }#T_36817_row0_col2{\n",
       "            background-color:  #85a8fc;\n",
       "            color:  #000000;\n",
       "        }#T_36817_row0_col3,#T_36817_row1_col2,#T_36817_row2_col0,#T_36817_row2_col1{\n",
       "            background-color:  #3b4cc0;\n",
       "            color:  #f1f1f1;\n",
       "        }#T_36817_row1_col0{\n",
       "            background-color:  #f3c7b1;\n",
       "            color:  #000000;\n",
       "        }#T_36817_row1_col3{\n",
       "            background-color:  #485fd1;\n",
       "            color:  #f1f1f1;\n",
       "        }#T_36817_row2_col3{\n",
       "            background-color:  #5875e1;\n",
       "            color:  #000000;\n",
       "        }#T_36817_row3_col0{\n",
       "            background-color:  #6485ec;\n",
       "            color:  #000000;\n",
       "        }#T_36817_row3_col1{\n",
       "            background-color:  #b3cdfb;\n",
       "            color:  #000000;\n",
       "        }#T_36817_row3_col2{\n",
       "            background-color:  #bfd3f6;\n",
       "            color:  #000000;\n",
       "        }</style><table id=\"T_36817_\" ><thead>    <tr>        <th class=\"blank level0\" ></th>        <th class=\"col_heading level0 col0\" >bitcoin</th>        <th class=\"col_heading level0 col1\" >ethereum</th>        <th class=\"col_heading level0 col2\" >btc_price</th>        <th class=\"col_heading level0 col3\" >eth_price</th>    </tr></thead><tbody>\n",
       "                <tr>\n",
       "                        <th id=\"T_36817_level0_row0\" class=\"row_heading level0 row0\" >bitcoin</th>\n",
       "                        <td id=\"T_36817_row0_col0\" class=\"data row0 col0\" >1.000000</td>\n",
       "                        <td id=\"T_36817_row0_col1\" class=\"data row0 col1\" >0.806257</td>\n",
       "                        <td id=\"T_36817_row0_col2\" class=\"data row0 col2\" >0.497602</td>\n",
       "                        <td id=\"T_36817_row0_col3\" class=\"data row0 col3\" >0.565615</td>\n",
       "            </tr>\n",
       "            <tr>\n",
       "                        <th id=\"T_36817_level0_row1\" class=\"row_heading level0 row1\" >ethereum</th>\n",
       "                        <td id=\"T_36817_row1_col0\" class=\"data row1 col0\" >0.806257</td>\n",
       "                        <td id=\"T_36817_row1_col1\" class=\"data row1 col1\" >1.000000</td>\n",
       "                        <td id=\"T_36817_row1_col2\" class=\"data row1 col2\" >0.349969</td>\n",
       "                        <td id=\"T_36817_row1_col3\" class=\"data row1 col3\" >0.584710</td>\n",
       "            </tr>\n",
       "            <tr>\n",
       "                        <th id=\"T_36817_level0_row2\" class=\"row_heading level0 row2\" >btc_price</th>\n",
       "                        <td id=\"T_36817_row2_col0\" class=\"data row2 col0\" >0.497602</td>\n",
       "                        <td id=\"T_36817_row2_col1\" class=\"data row2 col1\" >0.349969</td>\n",
       "                        <td id=\"T_36817_row2_col2\" class=\"data row2 col2\" >1.000000</td>\n",
       "                        <td id=\"T_36817_row2_col3\" class=\"data row2 col3\" >0.607165</td>\n",
       "            </tr>\n",
       "            <tr>\n",
       "                        <th id=\"T_36817_level0_row3\" class=\"row_heading level0 row3\" >eth_price</th>\n",
       "                        <td id=\"T_36817_row3_col0\" class=\"data row3 col0\" >0.565615</td>\n",
       "                        <td id=\"T_36817_row3_col1\" class=\"data row3 col1\" >0.584710</td>\n",
       "                        <td id=\"T_36817_row3_col2\" class=\"data row3 col2\" >0.607165</td>\n",
       "                        <td id=\"T_36817_row3_col3\" class=\"data row3 col3\" >1.000000</td>\n",
       "            </tr>\n",
       "    </tbody></table>"
      ],
      "text/plain": [
       "<pandas.io.formats.style.Styler at 0x7fc60b082f90>"
      ]
     },
     "execution_count": 4,
     "metadata": {},
     "output_type": "execute_result"
    }
   ],
   "source": [
    "import matplotlib.pyplot as plt\n",
    "\n",
    "merged.corr().style.background_gradient(cmap='coolwarm')"
   ]
  },
  {
   "cell_type": "markdown",
   "metadata": {},
   "source": [
    "### As we can see there are correlation between search term of a symbol and its price. <br>\n",
    "### Also there are correlation with price of two symbol. There is a high correlation.\n",
    "\n",
    "### Let's plot histogra of the return of price of each symbol.\n",
    "### return of a price means the rate of change in the price in each timestep."
   ]
  },
  {
   "cell_type": "code",
   "execution_count": 5,
   "metadata": {},
   "outputs": [
    {
     "data": {
      "text/plain": [
       "<matplotlib.legend.Legend at 0x7fc60ac0c510>"
      ]
     },
     "execution_count": 5,
     "metadata": {},
     "output_type": "execute_result"
    },
    {
     "data": {
      "image/png": "[encoded data removed]",
      "text/plain": [
       "<Figure size 432x288 with 1 Axes>"
      ]
     },
     "metadata": {
      "needs_background": "light"
     },
     "output_type": "display_data"
    }
   ],
   "source": [
    "plt.hist(btcusd['Close'].pct_change(), bins=100, alpha=0.5, label='btc');\n",
    "plt.hist(ethusd['Close'].pct_change(), bins=100, alpha=0.5, label='eth');\n",
    "plt.legend()"
   ]
  },
  {
   "cell_type": "markdown",
   "metadata": {},
   "source": [
    "### As we can see the rate of change in two symbol are almost the same. \n",
    "### But keep in mind ethereum sometimes has higher rate of change so there is a higher risk here than bitcoin/   "
   ]
  },
  {
   "cell_type": "code",
   "execution_count": 6,
   "metadata": {},
   "outputs": [],
   "source": [
    "merged.to_csv('crypto.csv')"
   ]
  }
 ],
 "metadata": {
  "interpreter": {
   "hash": "55d93f74ae2c7eaaacf8290e6cf8e95dce807014fdede7d538a8b32c7ac838cd"
  },
  "kernelspec": {
   "display_name": "Python 3.7.5 64-bit ('dsenv': virtualenv)",
   "name": "python3"
  },
  "language_info": {
   "codemirror_mode": {
    "name": "ipython",
    "version": 3
   },
   "file_extension": ".py",
   "mimetype": "text/x-python",
   "name": "python",
   "nbconvert_exporter": "python",
   "pygments_lexer": "ipython3",
   "version": "3.7.5"
  },
  "orig_nbformat": 4
 },
 "nbformat": 4,
 "nbformat_minor": 2
}
